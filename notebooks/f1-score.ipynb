{
  "metadata": {
    "language_info": {
      "codemirror_mode": {
        "name": "python",
        "version": 3
      },
      "file_extension": ".py",
      "mimetype": "text/x-python",
      "name": "python",
      "nbconvert_exporter": "python",
      "pygments_lexer": "ipython3",
      "version": "3.8"
    },
    "kernelspec": {
      "name": "python",
      "display_name": "Python (Pyodide)",
      "language": "python"
    }
  },
  "nbformat_minor": 4,
  "nbformat": 4,
  "cells": [
    {
      "cell_type": "code",
      "source": "import csv, re\nfrom sklearn.metrics import f1_score",
      "metadata": {
        "trusted": true
      },
      "execution_count": 4,
      "outputs": []
    },
    {
      "cell_type": "code",
      "source": "    questions = []\n    human = []\n    bot = []",
      "metadata": {
        "trusted": true
      },
      "execution_count": 2,
      "outputs": []
    },
    {
      "cell_type": "code",
      "source": "    with open('accuracy.csv') as f:\n        r = csv.reader(f)\n        next(r)\n        for row in r:\n            b, h, q = row.pop(), row.pop(), row.pop()\n            questions.append(q)\n            human.append(h)\n            bot.append(re.sub('\\n', '', b))",
      "metadata": {
        "trusted": true
      },
      "execution_count": 5,
      "outputs": []
    },
    {
      "cell_type": "code",
      "source": "    f1_scores = []",
      "metadata": {
        "trusted": true
      },
      "execution_count": 6,
      "outputs": []
    },
    {
      "cell_type": "code",
      "source": " for i in range(min(len(questions), len(human))):\n        question = questions[i]\n        answer = human[i]\n        predicted_answer = bot[i]\n        f1 = f1_score([answer], [predicted_answer], average='weighted')\n        f1_scores.append(f1)",
      "metadata": {
        "trusted": true
      },
      "execution_count": 8,
      "outputs": []
    },
    {
      "cell_type": "code",
      "source": "average_f1 = sum(f1_scores) / len(f1_scores)",
      "metadata": {
        "trusted": true
      },
      "execution_count": 9,
      "outputs": []
    },
    {
      "cell_type": "code",
      "source": "print(f'f1:{average_f1}')",
      "metadata": {
        "trusted": true
      },
      "execution_count": 10,
      "outputs": [
        {
          "name": "stdout",
          "text": "f1:0.1\n",
          "output_type": "stream"
        }
      ]
    }
  ]
}