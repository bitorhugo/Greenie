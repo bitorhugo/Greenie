{
  "metadata": {
    "language_info": {
      "codemirror_mode": {
        "name": "python",
        "version": 3
      },
      "file_extension": ".py",
      "mimetype": "text/x-python",
      "name": "python",
      "nbconvert_exporter": "python",
      "pygments_lexer": "ipython3",
      "version": "3.8"
    },
    "kernelspec": {
      "name": "python",
      "display_name": "Python (Pyodide)",
      "language": "python"
    }
  },
  "nbformat_minor": 4,
  "nbformat": 4,
  "cells": [
    {
      "cell_type": "code",
      "source": "import csv\nfrom sklearn.metrics.pairwise import cosine_similarity\nfrom sklearn.feature_extraction.text import CountVectorizer\nimport matplotlib.pyplot as plt\nimport numpy as np",
      "metadata": {
        "trusted": true
      },
      "execution_count": 43,
      "outputs": []
    },
    {
      "cell_type": "code",
      "source": "questions = []\nhuman_answers = []\nbot_answers = []",
      "metadata": {
        "trusted": true
      },
      "execution_count": 11,
      "outputs": []
    },
    {
      "cell_type": "code",
      "source": "with open('accuracy.csv') as f:\n    reader = csv.reader(f)\n    next(reader) # discard csv headers\n    for row in reader:\n        bot_answer, human_answer, question = row.pop(), row.pop(), row.pop()\n        bot_answers.append(bot_answer)\n        human_answers.append(human_answer)\n        questions.append(question)",
      "metadata": {
        "trusted": true
      },
      "execution_count": 12,
      "outputs": []
    },
    {
      "cell_type": "code",
      "source": "# create a CountVectorizer object\nvectorizer = CountVectorizer()\ncosines = []\n# fit the vectorizer on the sentences\nfor i in range(len(questions)):\n    vectorizer.fit_transform([human_answers[i], bot_answers[i]])\n    # transform the sentences into vectors\n    vector1 = vectorizer.transform([human_answers[i]]).toarray()\n    vector2 = vectorizer.transform([bot_answers[i]]).toarray()\n    # calculate cosine similarity between the two vectors\n    cosine_sim = cosine_similarity(vector1, vector2)\n    cosines.append(cosine_sim)",
      "metadata": {
        "trusted": true
      },
      "execution_count": 44,
      "outputs": []
    },
    {
      "cell_type": "code",
      "source": "plt.ylim(0, 1.1)\nplt.scatter([item for item in range (0, 10)], np.array(cosines).flatten())",
      "metadata": {
        "trusted": true
      },
      "execution_count": 55,
      "outputs": [
        {
          "execution_count": 55,
          "output_type": "execute_result",
          "data": {
            "text/plain": "<matplotlib.collections.PathCollection at 0x68dca88>"
          },
          "metadata": {}
        },
        {
          "output_type": "display_data",
          "data": {
            "text/plain": "<Figure size 640x480 with 1 Axes>",
            "image/png": "[encoded data removed]"
          },
          "metadata": {}
        }
      ]
    }
  ]
}